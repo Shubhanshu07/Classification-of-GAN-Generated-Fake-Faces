{
 "cells": [
  {
   "cell_type": "markdown",
   "metadata": {},
   "source": [
    "### GAN CLASSIFIER INFERENCE CODE\n",
    "Edit the variable checkpoint path and the input file to test the image"
   ]
  },
  {
   "cell_type": "code",
   "execution_count": 1,
   "metadata": {},
   "outputs": [],
   "source": [
    "import matplotlib\n",
    "import sys\n",
    "import numpy as np\n",
    "import torch\n",
    "from hparams import create_hparams\n",
    "from model import GAN_Classifier\n",
    "from train import load_model\n",
    "import os\n",
    "from PIL import Image\n",
    "import torchvision.transforms as transforms\n",
    "from utils import to_gpu"
   ]
  },
  {
   "cell_type": "markdown",
   "metadata": {},
   "source": [
    "### Calculating SRM Features\n",
    "If SRM input is to be used"
   ]
  },
  {
   "cell_type": "code",
   "execution_count": 2,
   "metadata": {},
   "outputs": [],
   "source": [
    "# import cv2\n",
    "# q = [4.0, 12.0, 2.0]\n",
    "# filter1 = [[0, 0, 0, 0, 0],\n",
    "#            [0, -1, 2, -1, 0],\n",
    "#            [0, 2, -4, 2, 0],\n",
    "#            [0, -1, 2, -1, 0],\n",
    "#            [0, 0, 0, 0, 0]]\n",
    "# filter2 = [[-1, 2, -2, 2, -1],\n",
    "#            [2, -6, 8, -6, 2],\n",
    "#            [-2, 8, -12, 8, -2],\n",
    "#            [2, -6, 8, -6, 2],\n",
    "#            [-1, 2, -2, 2, -1]]\n",
    "# filter3 = [[0, 0, 0, 0, 0],\n",
    "#            [0, 0, 0, 0, 0],\n",
    "#            [0, 1, -2, 1, 0],\n",
    "#            [0, 0, 0, 0, 0],\n",
    "#            [0, 0, 0, 0, 0]]\n",
    "# filter1 = np.asarray(filter1, dtype=float) / q[0]\n",
    "# filter2 = np.asarray(filter2, dtype=float) / q[1]\n",
    "# filter3 = np.asarray(filter3, dtype=float) / q[2]\n",
    "\n",
    "# path='Input Image path'\n",
    "# dst= 'path_where image is to be saved'   \n",
    "# filters = filter1+filter2+filter3\n",
    "# image = cv2.imread(path)\n",
    "# processed_image = cv2.filter2D(image,-1,filters)\n",
    "# name='srm'+filename \n",
    "# cv2.imwrite(name,processed_image)"
   ]
  },
  {
   "cell_type": "code",
   "execution_count": 3,
   "metadata": {},
   "outputs": [
    {
     "name": "stdout",
     "output_type": "stream",
     "text": [
      "WARNING:tensorflow:\n",
      "The TensorFlow contrib module will not be included in TensorFlow 2.0.\n",
      "For more information, please see:\n",
      "  * https://github.com/tensorflow/community/blob/master/rfcs/20180907-contrib-sunset.md\n",
      "  * https://github.com/tensorflow/addons\n",
      "  * https://github.com/tensorflow/io (for I/O related ops)\n",
      "If you depend on functionality not listed there, please file an issue.\n",
      "\n"
     ]
    }
   ],
   "source": [
    "hparams=create_hparams()"
   ]
  },
  {
   "cell_type": "code",
   "execution_count": 4,
   "metadata": {},
   "outputs": [],
   "source": [
    "checkpoint_path='outdir_resnet_srm/checkpoint_4200'\n",
    "model=load_model(hparams)\n",
    "model.load_state_dict(torch.load(checkpoint_path)['state_dict'])\n",
    "_ = model.cuda().eval()"
   ]
  },
  {
   "cell_type": "markdown",
   "metadata": {},
   "source": [
    "### Input image transformation"
   ]
  },
  {
   "cell_type": "code",
   "execution_count": 5,
   "metadata": {},
   "outputs": [],
   "source": [
    "# img='image_path'\n",
    "# transform = transforms.Compose([transforms.ToTensor(),transforms.Normalize(mean=[0.485,0.456,0.406],std= [0.229,0.224,0.225])])\n",
    "# image=Image.open(img)\n",
    "# # image.show()\n",
    "# image=transform(image)\n",
    "# image=image.unsqueeze(0)\n",
    "# image=to_gpu(image)\n",
    "# print(image.size())\n",
    "# y_pred=model.inference(image)\n",
    "# _,preds=torch.max(y_pred,1)\n",
    "# print(y_pred,preds)"
   ]
  },
  {
   "cell_type": "markdown",
   "metadata": {},
   "source": [
    "### Test set Accuracy "
   ]
  },
  {
   "cell_type": "code",
   "execution_count": 8,
   "metadata": {},
   "outputs": [
    {
     "name": "stdout",
     "output_type": "stream",
     "text": [
      "tensor(25.1004, device='cuda:0') %\n"
     ]
    }
   ],
   "source": [
    "transform = transforms.Compose([transforms.ToTensor(),transforms.Normalize(mean=[0.485,0.456,0.406],std= [0.229,0.224,0.225])])\n",
    "path='filelists/gan_images_test_list.txt'\n",
    "image_set = set((line.strip() for line in open(path)))\n",
    "accuracy=0.0\n",
    "total=0.0\n",
    "i=0\n",
    "for line in image_set:\n",
    "    img,srm,y=line.split('|')\n",
    "    y=torch.tensor(int(y))\n",
    "    y=y.cuda()\n",
    "\n",
    "#     image=Image.open(srm)  #if srm is input\n",
    "    \n",
    "    image=Image.open(img)  #if original image is input\n",
    "    image=transform(image)\n",
    "    image=image.unsqueeze(0)\n",
    "    image=to_gpu(image)\n",
    "    y_pred=model.inference(image)\n",
    "    _,preds=torch.max(y_pred,1)\n",
    "    accuracy+=torch.sum(preds==y)\n",
    "    total=total+1\n",
    "accuracy=accuracy/total\n",
    "print(accuracy*100,'%')\n",
    "    "
   ]
  },
  {
   "cell_type": "markdown",
   "metadata": {},
   "source": [
    "### Classifying the image"
   ]
  }
 ],
 "metadata": {
  "kernelspec": {
   "display_name": "Python 3",
   "language": "python",
   "name": "python3"
  },
  "language_info": {
   "codemirror_mode": {
    "name": "ipython",
    "version": 3
   },
   "file_extension": ".py",
   "mimetype": "text/x-python",
   "name": "python",
   "nbconvert_exporter": "python",
   "pygments_lexer": "ipython3",
   "version": "3.5.2"
  }
 },
 "nbformat": 4,
 "nbformat_minor": 4
}
